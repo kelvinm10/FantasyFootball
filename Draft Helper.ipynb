{
 "cells": [
  {
   "cell_type": "code",
   "execution_count": 1,
   "metadata": {},
   "outputs": [],
   "source": [
    "import numpy as np\n",
    "import pandas as pd\n",
    "import math\n",
    "import os\n",
    "import ipywidgets as widgets\n",
    "import functools\n",
    "import difflib\n",
    "from IPython.display import clear_output\n",
    "from IPython.display import display, HTML\n",
    "import time\n",
    "\n",
    "managers = [\"Me\",\"Jack\", \"Jordan\",\"Blake\",\"Jason\",\"Mason\",\"Mike\",\"Johnny&Ben\",\"Noah\",\"Scott\"]\n",
    "limit = 200\n",
    "positions = [\"QB\",\"RB1\",\"RB2\",\"WR1\",\"WR2\",\"TE\",\"FLX1\",\"FLX2\",\"HC\",\"$ Left\",\"Max Bid\"]\n",
    "positions2 = [\"QB\",\"RB1\",\"RB2\",\"WR1\",\"WR2\",\"TE\",\"FLX1\",\"FLX2\",\"HC\"]"
   ]
  },
  {
   "cell_type": "code",
   "execution_count": 2,
   "metadata": {},
   "outputs": [],
   "source": [
    "def refresh(b = None):\n",
    "    master = pd.DataFrame(columns = managers, index = positions)\n",
    "    for index, row in master.iterrows():\n",
    "        if index == \"$ Left\" or index == \"Max Bid\":\n",
    "            for i in managers:\n",
    "                master.at[index,i] = limit\n",
    "    return master"
   ]
  },
  {
   "cell_type": "markdown",
   "metadata": {},
   "source": [
    "## Refresh Master Board"
   ]
  },
  {
   "cell_type": "code",
   "execution_count": 3,
   "metadata": {},
   "outputs": [],
   "source": [
    "master = refresh()\n",
    "stack = []"
   ]
  },
  {
   "cell_type": "code",
   "execution_count": 4,
   "metadata": {},
   "outputs": [],
   "source": [
    "def player_sold(manager, pos, name, value):\n",
    "    if not isinstance(master.at[pos,manager], str):\n",
    "        master.at[pos, manager] = name +\" \" + \"$\" + str(value)\n",
    "        curr = master.at[\"$ Left\", manager] \n",
    "        master.at[\"$ Left\", manager] = curr - value\n",
    "        Nas = master[manager].isna().sum() - 1\n",
    "        maxVal = master.at[\"$ Left\",manager] - Nas\n",
    "        master.at[\"Max Bid\", manager] = maxVal\n",
    "        stack.append(master.copy())\n",
    "    else:\n",
    "        print(\"ERROR: Position already filled or manager name not correct\")"
   ]
  },
  {
   "cell_type": "code",
   "execution_count": 5,
   "metadata": {},
   "outputs": [],
   "source": [
    "def view_manager(manager):\n",
    "    display(HTML(master[manager].to_frame().to_html()))"
   ]
  },
  {
   "cell_type": "markdown",
   "metadata": {},
   "source": [
    "## MAIN FUNCTIONS"
   ]
  },
  {
   "cell_type": "code",
   "execution_count": 6,
   "metadata": {},
   "outputs": [
    {
     "data": {
      "application/vnd.jupyter.widget-view+json": {
       "model_id": "5411d192bcbe40c984c326b6a9770ce0",
       "version_major": 2,
       "version_minor": 0
      },
      "text/plain": [
       "Output()"
      ]
     },
     "metadata": {},
     "output_type": "display_data"
    },
    {
     "data": {
      "application/vnd.jupyter.widget-view+json": {
       "model_id": "f9543e012c42408fae99ad09203e70d1",
       "version_major": 2,
       "version_minor": 0
      },
      "text/plain": [
       "Output()"
      ]
     },
     "metadata": {},
     "output_type": "display_data"
    },
    {
     "data": {
      "application/vnd.jupyter.widget-view+json": {
       "model_id": "6efa0869b28f4b98aff07a7ea28627aa",
       "version_major": 2,
       "version_minor": 0
      },
      "text/plain": [
       "VBox(children=(interactive(children=(Dropdown(description='manager', options=('Me', 'Jack', 'Jordan', 'Blake',…"
      ]
     },
     "metadata": {},
     "output_type": "display_data"
    },
    {
     "name": "stdout",
     "output_type": "stream",
     "text": [
      "SUCCESS!\n"
     ]
    }
   ],
   "source": [
    "pos = widgets.Text()\n",
    "name = widgets.Text()\n",
    "value = widgets.Text()\n",
    "playerName = widgets.Text()\n",
    "\n",
    "def select_position(position):\n",
    "    pos.value = str(position)\n",
    "    \n",
    "def player_name(player):\n",
    "    playerName.value = str(player)\n",
    "    \n",
    "def select_manager(manager):\n",
    "    name.value = str(manager)\n",
    "    \n",
    "def select_value(val):\n",
    "    value.value = str(val)\n",
    "    \n",
    "def view_master(b):\n",
    "    display(HTML(master.to_html()))\n",
    "    \n",
    "\n",
    "a = widgets.interactive(select_manager, manager = managers)\n",
    "b = widgets.interactive(select_position,position = positions2)\n",
    "c = widgets.interactive(player_name, player = \"\")\n",
    "d = widgets.interactive(select_value, val = ((0,110)))\n",
    "\n",
    "addButton = widgets.Button(description = \"ADD PLAYER\", button_style = \"danger\")\n",
    "#display(addButton)\n",
    "def add_player(b):\n",
    "    player_sold(name.value, pos.value, playerName.value, int(value.value))\n",
    "    print(\"SUCCESS!\")\n",
    "addButton.on_click(add_player)\n",
    "\n",
    "\n",
    "btn = widgets.Button(description = \"View Board\", button_style = \"success\")\n",
    "#display(btn)\n",
    "out1 = widgets.Output()\n",
    "display(out1)\n",
    "def view_master(b):\n",
    "    with out1:\n",
    "        clear_output(wait=True)\n",
    "        display(HTML(master.to_html()))\n",
    "\n",
    "        \n",
    "btn.on_click(view_master)\n",
    "\n",
    "\n",
    "dropDown = widgets.Text()\n",
    "\n",
    "def select_manager2(view_manager):\n",
    "    dropDown.value = str(view_manager)\n",
    "\n",
    "e = widgets.interactive(select_manager2, view_manager = managers)\n",
    "\n",
    "show = widgets.Button(description = \"View manager\", button_style = \"success\")\n",
    "#display(show)\n",
    "out = widgets.Output()\n",
    "display(out)\n",
    "def on_button_clicked(b):\n",
    "    with out:\n",
    "        clear_output(wait = True)\n",
    "        view_manager(dropDown.value)\n",
    "show.on_click(on_button_clicked)\n",
    "\n",
    "items = [a,b,c,d,e,addButton, btn, show]\n",
    "widgets.VBox(items)\n",
    "\n"
   ]
  },
  {
   "cell_type": "markdown",
   "metadata": {},
   "source": [
    "## Undo Last Add"
   ]
  },
  {
   "cell_type": "code",
   "execution_count": 8,
   "metadata": {},
   "outputs": [
    {
     "ename": "IndexError",
     "evalue": "pop from empty list",
     "output_type": "error",
     "traceback": [
      "\u001b[0;31m---------------------------------------------------------------------------\u001b[0m",
      "\u001b[0;31mIndexError\u001b[0m                                Traceback (most recent call last)",
      "\u001b[0;32m<ipython-input-8-f759153be4ea>\u001b[0m in \u001b[0;36m<module>\u001b[0;34m\u001b[0m\n\u001b[1;32m      3\u001b[0m     \u001b[0;32mreturn\u001b[0m \u001b[0mstack\u001b[0m\u001b[0;34m.\u001b[0m\u001b[0mpop\u001b[0m\u001b[0;34m(\u001b[0m\u001b[0;34m)\u001b[0m\u001b[0;34m\u001b[0m\u001b[0;34m\u001b[0m\u001b[0m\n\u001b[1;32m      4\u001b[0m \u001b[0;34m\u001b[0m\u001b[0m\n\u001b[0;32m----> 5\u001b[0;31m \u001b[0mmaster\u001b[0m \u001b[0;34m=\u001b[0m \u001b[0mundo_add\u001b[0m\u001b[0;34m(\u001b[0m\u001b[0;34m)\u001b[0m\u001b[0;34m\u001b[0m\u001b[0;34m\u001b[0m\u001b[0m\n\u001b[0m",
      "\u001b[0;32m<ipython-input-8-f759153be4ea>\u001b[0m in \u001b[0;36mundo_add\u001b[0;34m()\u001b[0m\n\u001b[1;32m      1\u001b[0m \u001b[0;31m#Function to undo last add\u001b[0m\u001b[0;34m\u001b[0m\u001b[0;34m\u001b[0m\u001b[0;34m\u001b[0m\u001b[0m\n\u001b[1;32m      2\u001b[0m \u001b[0;32mdef\u001b[0m \u001b[0mundo_add\u001b[0m\u001b[0;34m(\u001b[0m\u001b[0;34m)\u001b[0m\u001b[0;34m:\u001b[0m\u001b[0;34m\u001b[0m\u001b[0;34m\u001b[0m\u001b[0m\n\u001b[0;32m----> 3\u001b[0;31m     \u001b[0;32mreturn\u001b[0m \u001b[0mstack\u001b[0m\u001b[0;34m.\u001b[0m\u001b[0mpop\u001b[0m\u001b[0;34m(\u001b[0m\u001b[0;34m)\u001b[0m\u001b[0;34m\u001b[0m\u001b[0;34m\u001b[0m\u001b[0m\n\u001b[0m\u001b[1;32m      4\u001b[0m \u001b[0;34m\u001b[0m\u001b[0m\n\u001b[1;32m      5\u001b[0m \u001b[0mmaster\u001b[0m \u001b[0;34m=\u001b[0m \u001b[0mundo_add\u001b[0m\u001b[0;34m(\u001b[0m\u001b[0;34m)\u001b[0m\u001b[0;34m\u001b[0m\u001b[0;34m\u001b[0m\u001b[0m\n",
      "\u001b[0;31mIndexError\u001b[0m: pop from empty list"
     ]
    }
   ],
   "source": [
    "#Function to undo last add\n",
    "def undo_add():\n",
    "    return stack.pop()\n",
    "\n",
    "master = undo_add()"
   ]
  },
  {
   "cell_type": "markdown",
   "metadata": {},
   "source": [
    "## Refresh Board"
   ]
  },
  {
   "cell_type": "code",
   "execution_count": 213,
   "metadata": {},
   "outputs": [],
   "source": [
    "master = refresh()\n",
    "stack = []"
   ]
  },
  {
   "cell_type": "code",
   "execution_count": 212,
   "metadata": {},
   "outputs": [
    {
     "data": {
      "text/html": [
       "<div>\n",
       "<style scoped>\n",
       "    .dataframe tbody tr th:only-of-type {\n",
       "        vertical-align: middle;\n",
       "    }\n",
       "\n",
       "    .dataframe tbody tr th {\n",
       "        vertical-align: top;\n",
       "    }\n",
       "\n",
       "    .dataframe thead th {\n",
       "        text-align: right;\n",
       "    }\n",
       "</style>\n",
       "<table border=\"1\" class=\"dataframe\">\n",
       "  <thead>\n",
       "    <tr style=\"text-align: right;\">\n",
       "      <th></th>\n",
       "      <th>Me</th>\n",
       "      <th>Jack</th>\n",
       "      <th>Jordan</th>\n",
       "      <th>Blake</th>\n",
       "      <th>Jason</th>\n",
       "      <th>Mason</th>\n",
       "      <th>Mike</th>\n",
       "      <th>Johnny&amp;Ben</th>\n",
       "      <th>Noah</th>\n",
       "      <th>Scott</th>\n",
       "    </tr>\n",
       "  </thead>\n",
       "  <tbody>\n",
       "    <tr>\n",
       "      <th>QB</th>\n",
       "      <td>i1 $55</td>\n",
       "      <td>NaN</td>\n",
       "      <td>NaN</td>\n",
       "      <td>NaN</td>\n",
       "      <td>NaN</td>\n",
       "      <td>NaN</td>\n",
       "      <td>NaN</td>\n",
       "      <td>NaN</td>\n",
       "      <td>NaN</td>\n",
       "      <td>NaN</td>\n",
       "    </tr>\n",
       "    <tr>\n",
       "      <th>RB1</th>\n",
       "      <td>NaN</td>\n",
       "      <td>NaN</td>\n",
       "      <td>NaN</td>\n",
       "      <td>NaN</td>\n",
       "      <td>NaN</td>\n",
       "      <td>NaN</td>\n",
       "      <td>NaN</td>\n",
       "      <td>NaN</td>\n",
       "      <td>NaN</td>\n",
       "      <td>NaN</td>\n",
       "    </tr>\n",
       "    <tr>\n",
       "      <th>RB2</th>\n",
       "      <td>NaN</td>\n",
       "      <td>NaN</td>\n",
       "      <td>NaN</td>\n",
       "      <td>NaN</td>\n",
       "      <td>NaN</td>\n",
       "      <td>NaN</td>\n",
       "      <td>NaN</td>\n",
       "      <td>NaN</td>\n",
       "      <td>NaN</td>\n",
       "      <td>NaN</td>\n",
       "    </tr>\n",
       "    <tr>\n",
       "      <th>WR1</th>\n",
       "      <td>NaN</td>\n",
       "      <td>NaN</td>\n",
       "      <td>NaN</td>\n",
       "      <td>NaN</td>\n",
       "      <td>NaN</td>\n",
       "      <td>NaN</td>\n",
       "      <td>NaN</td>\n",
       "      <td>NaN</td>\n",
       "      <td>NaN</td>\n",
       "      <td>NaN</td>\n",
       "    </tr>\n",
       "    <tr>\n",
       "      <th>WR2</th>\n",
       "      <td>NaN</td>\n",
       "      <td>NaN</td>\n",
       "      <td>NaN</td>\n",
       "      <td>NaN</td>\n",
       "      <td>NaN</td>\n",
       "      <td>NaN</td>\n",
       "      <td>NaN</td>\n",
       "      <td>NaN</td>\n",
       "      <td>NaN</td>\n",
       "      <td>NaN</td>\n",
       "    </tr>\n",
       "    <tr>\n",
       "      <th>TE</th>\n",
       "      <td>NaN</td>\n",
       "      <td>NaN</td>\n",
       "      <td>NaN</td>\n",
       "      <td>NaN</td>\n",
       "      <td>NaN</td>\n",
       "      <td>NaN</td>\n",
       "      <td>NaN</td>\n",
       "      <td>NaN</td>\n",
       "      <td>NaN</td>\n",
       "      <td>NaN</td>\n",
       "    </tr>\n",
       "    <tr>\n",
       "      <th>FLX1</th>\n",
       "      <td>NaN</td>\n",
       "      <td>NaN</td>\n",
       "      <td>NaN</td>\n",
       "      <td>NaN</td>\n",
       "      <td>NaN</td>\n",
       "      <td>NaN</td>\n",
       "      <td>NaN</td>\n",
       "      <td>NaN</td>\n",
       "      <td>NaN</td>\n",
       "      <td>NaN</td>\n",
       "    </tr>\n",
       "    <tr>\n",
       "      <th>FLX2</th>\n",
       "      <td>NaN</td>\n",
       "      <td>NaN</td>\n",
       "      <td>NaN</td>\n",
       "      <td>NaN</td>\n",
       "      <td>NaN</td>\n",
       "      <td>NaN</td>\n",
       "      <td>NaN</td>\n",
       "      <td>NaN</td>\n",
       "      <td>NaN</td>\n",
       "      <td>NaN</td>\n",
       "    </tr>\n",
       "    <tr>\n",
       "      <th>HC</th>\n",
       "      <td>NaN</td>\n",
       "      <td>NaN</td>\n",
       "      <td>NaN</td>\n",
       "      <td>NaN</td>\n",
       "      <td>NaN</td>\n",
       "      <td>NaN</td>\n",
       "      <td>NaN</td>\n",
       "      <td>NaN</td>\n",
       "      <td>NaN</td>\n",
       "      <td>NaN</td>\n",
       "    </tr>\n",
       "    <tr>\n",
       "      <th>$ Left</th>\n",
       "      <td>145</td>\n",
       "      <td>200</td>\n",
       "      <td>200</td>\n",
       "      <td>200</td>\n",
       "      <td>200</td>\n",
       "      <td>200</td>\n",
       "      <td>200</td>\n",
       "      <td>200</td>\n",
       "      <td>200</td>\n",
       "      <td>200</td>\n",
       "    </tr>\n",
       "    <tr>\n",
       "      <th>Max Bid</th>\n",
       "      <td>138</td>\n",
       "      <td>200</td>\n",
       "      <td>200</td>\n",
       "      <td>200</td>\n",
       "      <td>200</td>\n",
       "      <td>200</td>\n",
       "      <td>200</td>\n",
       "      <td>200</td>\n",
       "      <td>200</td>\n",
       "      <td>200</td>\n",
       "    </tr>\n",
       "  </tbody>\n",
       "</table>\n",
       "</div>"
      ],
      "text/plain": [
       "             Me Jack Jordan Blake Jason Mason Mike Johnny&Ben Noah Scott\n",
       "QB       i1 $55  NaN    NaN   NaN   NaN   NaN  NaN        NaN  NaN   NaN\n",
       "RB1         NaN  NaN    NaN   NaN   NaN   NaN  NaN        NaN  NaN   NaN\n",
       "RB2         NaN  NaN    NaN   NaN   NaN   NaN  NaN        NaN  NaN   NaN\n",
       "WR1         NaN  NaN    NaN   NaN   NaN   NaN  NaN        NaN  NaN   NaN\n",
       "WR2         NaN  NaN    NaN   NaN   NaN   NaN  NaN        NaN  NaN   NaN\n",
       "TE          NaN  NaN    NaN   NaN   NaN   NaN  NaN        NaN  NaN   NaN\n",
       "FLX1        NaN  NaN    NaN   NaN   NaN   NaN  NaN        NaN  NaN   NaN\n",
       "FLX2        NaN  NaN    NaN   NaN   NaN   NaN  NaN        NaN  NaN   NaN\n",
       "HC          NaN  NaN    NaN   NaN   NaN   NaN  NaN        NaN  NaN   NaN\n",
       "$ Left      145  200    200   200   200   200  200        200  200   200\n",
       "Max Bid     138  200    200   200   200   200  200        200  200   200"
      ]
     },
     "execution_count": 212,
     "metadata": {},
     "output_type": "execute_result"
    }
   ],
   "source": [
    "master"
   ]
  },
  {
   "cell_type": "code",
   "execution_count": null,
   "metadata": {},
   "outputs": [],
   "source": []
  }
 ],
 "metadata": {
  "kernelspec": {
   "display_name": "Python 3",
   "language": "python",
   "name": "python3"
  },
  "language_info": {
   "codemirror_mode": {
    "name": "ipython",
    "version": 3
   },
   "file_extension": ".py",
   "mimetype": "text/x-python",
   "name": "python",
   "nbconvert_exporter": "python",
   "pygments_lexer": "ipython3",
   "version": "3.6.13"
  }
 },
 "nbformat": 4,
 "nbformat_minor": 4
}
