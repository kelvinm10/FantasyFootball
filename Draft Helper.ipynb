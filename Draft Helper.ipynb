{
 "cells": [
  {
   "cell_type": "code",
   "execution_count": 146,
   "metadata": {},
   "outputs": [],
   "source": [
    "import numpy as np\n",
    "import pandas as pd\n",
    "import math\n",
    "import os\n",
    "import ipywidgets as widgets\n",
    "from ipywidgets import Layout, Button, Box, AppLayout\n",
    "import functools\n",
    "import difflib\n",
    "from IPython.display import clear_output\n",
    "from IPython.display import display, HTML\n",
    "import time\n",
    "\n",
    "# instantiate all of the necessary preliminaries\n",
    "managers = [\"Me\",\"Jack\", \"Jordan\",\"Blake\",\"Jason\",\"Mason\",\"Mike\",\"Johnny&Ben\",\"Noah\",\"Scott\"]\n",
    "limit = 200\n",
    "positions = [\"QB\",\"RB1\",\"RB2\",\"WR1\",\"WR2\",\"TE\",\"FLX1\",\"FLX2\",\"HC\",\"$ Left\",\"Max Bid\"]\n",
    "positions2 = [\"QB\",\"RB1\",\"RB2\",\"WR1\",\"WR2\",\"TE\",\"FLX1\",\"FLX2\",\"HC\"]\n",
    "\n",
    "# function to refresh the master board to all NAs and $200 for total $\n",
    "def refresh(b = None):\n",
    "    master = pd.DataFrame(columns = managers, index = positions)\n",
    "    for index, row in master.iterrows():\n",
    "        if index == \"$ Left\":\n",
    "            for i in managers:\n",
    "                master.at[index,i] = limit\n",
    "        if index == \"Max Bid\":\n",
    "            for i in managers:\n",
    "                 master.at[index,i] = limit - 9\n",
    "    return master\n",
    "\n",
    "# Function to view a specific manager's team in a nice format\n",
    "def view_manager(manager):\n",
    "    display(HTML(master[manager].to_frame().to_html()))\n",
    "    \n",
    "# Function to add a player to the master board once the bidding has stopped and the \n",
    "# player has been sold\n",
    "def player_sold(manager, pos, name, value):\n",
    "    if not isinstance(master.at[pos,manager], str):\n",
    "        stack.append(master.copy())\n",
    "        master.at[pos, manager] = name +\" \" + \"$\" + str(value)\n",
    "        curr = master.at[\"$ Left\", manager] \n",
    "        master.at[\"$ Left\", manager] = curr - value\n",
    "        Nas = master[manager].isna().sum() - 1\n",
    "        maxVal = master.at[\"$ Left\",manager] - Nas\n",
    "        master.at[\"Max Bid\", manager] = maxVal\n",
    "        #stack.append(master.copy())\n",
    "    else:\n",
    "        print(\"ERROR: Position already filled or manager name not correct\")\n",
    "\n",
    "\n",
    "\n"
   ]
  },
  {
   "cell_type": "markdown",
   "metadata": {},
   "source": [
    "## Draft Tools"
   ]
  },
  {
   "cell_type": "code",
   "execution_count": 150,
   "metadata": {},
   "outputs": [
    {
     "data": {
      "application/vnd.jupyter.widget-view+json": {
       "model_id": "26cdc71fc6014ffa8075c30ceacb2fee",
       "version_major": 2,
       "version_minor": 0
      },
      "text/plain": [
       "Output()"
      ]
     },
     "metadata": {},
     "output_type": "display_data"
    },
    {
     "data": {
      "application/vnd.jupyter.widget-view+json": {
       "model_id": "0e85106634c54b8594f6c79ff63da3b1",
       "version_major": 2,
       "version_minor": 0
      },
      "text/plain": [
       "Output()"
      ]
     },
     "metadata": {},
     "output_type": "display_data"
    },
    {
     "data": {
      "application/vnd.jupyter.widget-view+json": {
       "model_id": "1ed3904c23e14255a097d914e50ea297",
       "version_major": 2,
       "version_minor": 0
      },
      "text/plain": [
       "VBox(children=(interactive(children=(Dropdown(description='manager', options=('Me', 'Jack', 'Jordan', 'Blake',…"
      ]
     },
     "metadata": {},
     "output_type": "display_data"
    },
    {
     "data": {
      "application/vnd.jupyter.widget-view+json": {
       "model_id": "3e43182c44c5474b8c1673de007019f1",
       "version_major": 2,
       "version_minor": 0
      },
      "text/plain": [
       "AppLayout(children=(Button(button_style='danger', description='Refresh Board', layout=Layout(grid_area='header…"
      ]
     },
     "metadata": {},
     "output_type": "display_data"
    },
    {
     "name": "stdout",
     "output_type": "stream",
     "text": [
      "NOTHING TO UNDO!\n"
     ]
    }
   ],
   "source": [
    "master = refresh()\n",
    "stack = []\n",
    "\n",
    "def create_expanded_button(description, button_style):\n",
    "    return Button(description=description, button_style=button_style, \n",
    "                  layout=Layout(height='auto', width='auto'))\n",
    "\n",
    "\n",
    "pos = widgets.Text()\n",
    "name = widgets.Text()\n",
    "val = widgets.Text()\n",
    "playerName = widgets.Text()\n",
    "\n",
    "def select_position(position):\n",
    "    pos.value = str(position)\n",
    "    \n",
    "def player_name(player):\n",
    "    playerName.value = str(player)\n",
    "    \n",
    "def select_manager(manager):\n",
    "    name.value = str(manager)\n",
    "    \n",
    "def select_value(value):\n",
    "    val.value = str(value)\n",
    "    \n",
    "def view_master(b):\n",
    "    display(HTML(master.to_html()))\n",
    "    \n",
    "\n",
    "a = widgets.interactive(select_manager, manager = managers)\n",
    "b = widgets.interactive(select_position,position = positions2)\n",
    "c = widgets.interactive(player_name, player = \"\")\n",
    "d = widgets.interactive(select_value, value = ((0,110)))\n",
    "\n",
    "#ADD PLAYER BUTTON\n",
    "addButton = create_expanded_button(\"Add Player\", \"success\")\n",
    "\n",
    "def add_player(b):\n",
    "    player_sold(name.value, pos.value, playerName.value, int(val.value))\n",
    "    print(\"SUCCESS!\")\n",
    "    \n",
    "addButton.on_click(add_player)\n",
    "\n",
    "# VIEW BOARD BUTTON\n",
    "btn = create_expanded_button(\"View Board\",\"info\")\n",
    "out1 = widgets.Output()\n",
    "display(out1)\n",
    "def view_master(b):\n",
    "    with out1:\n",
    "        clear_output(wait=True)\n",
    "        display(HTML(master.to_html()))\n",
    "\n",
    "        \n",
    "btn.on_click(view_master)\n",
    "\n",
    "\n",
    "dropDown = widgets.Text()\n",
    "\n",
    "def select_manager2(view_manager):\n",
    "    name.value = str(view_manager)\n",
    "    \n",
    "# SELECT MANAGER DROPDOWN\n",
    "#e = widgets.interactive(select_manager2, view_manager = managers, \n",
    "#                        layout = Layout(width = \"auto\", grid_area = 'sidebar'))\n",
    "\n",
    "#VIEW MANAGER BUTTON\n",
    "show = create_expanded_button(\"View Manager\",\"info\")\n",
    "\n",
    "out = widgets.Output()\n",
    "display(out)\n",
    "def on_button_clicked(b):\n",
    "    with out:\n",
    "        clear_output(wait = True)\n",
    "        view_manager(name.value)\n",
    "show.on_click(on_button_clicked)\n",
    "\n",
    "def undo_add(na):\n",
    "    global master\n",
    "    try:\n",
    "        master = stack.pop()\n",
    "    except:\n",
    "        print(\"NOTHING TO UNDO!\")\n",
    "    \n",
    "#UNDO BUTTON\n",
    "undo = create_expanded_button(\"Undo\",\"danger\")\n",
    "undo.on_click(undo_add)\n",
    "\n",
    "def refresh_v2(nan):\n",
    "    global master\n",
    "    master = refresh()\n",
    "    global stack\n",
    "    stack = []\n",
    "    \n",
    "#REFRESH BUTTON\n",
    "refreshButton = create_expanded_button(\"Refresh Board\",\"Danger\")\n",
    "refreshButton.on_click(refresh_v2)\n",
    "\n",
    "\n",
    "items = [a,b,c,d]\n",
    "display(widgets.VBox(items))\n",
    "AppLayout(header=refreshButton,\n",
    "          left_sidebar=show,\n",
    "          center=addButton,\n",
    "          right_sidebar=btn,\n",
    "          footer=undo)\n",
    "\n"
   ]
  }
 ],
 "metadata": {
  "kernelspec": {
   "display_name": "Python 3",
   "language": "python",
   "name": "python3"
  },
  "language_info": {
   "codemirror_mode": {
    "name": "ipython",
    "version": 3
   },
   "file_extension": ".py",
   "mimetype": "text/x-python",
   "name": "python",
   "nbconvert_exporter": "python",
   "pygments_lexer": "ipython3",
   "version": "3.6.13"
  }
 },
 "nbformat": 4,
 "nbformat_minor": 4
}
